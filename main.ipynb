{
 "cells": [
  {
   "cell_type": "code",
   "execution_count": 1,
   "id": "e9f42c56",
   "metadata": {},
   "outputs": [],
   "source": [
    "import whisper"
   ]
  },
  {
   "cell_type": "code",
   "execution_count": 2,
   "id": "c63d22d1",
   "metadata": {},
   "outputs": [],
   "source": [
    "model = whisper.load_model(\"base\")"
   ]
  },
  {
   "cell_type": "code",
   "execution_count": 4,
   "id": "db0178fd",
   "metadata": {},
   "outputs": [],
   "source": [
    "result = model.transcribe(\"./audio/Idiom Attack 1 - Ch 1 From Beginning to End_3.mp3\",language=\"en\",fp16=False)"
   ]
  },
  {
   "cell_type": "code",
   "execution_count": 5,
   "id": "82f4d03b",
   "metadata": {},
   "outputs": [
    {
     "name": "stdout",
     "output_type": "stream",
     "text": [
      " Chapter 1. From Beginning to End The chain of stores kicked off its new sale with the party atmosphere. Kick off. Kick off. To start something. To officially commence something. Following the layoffs, the manager had to start over from scratch. From scratch. From scratch. From the very beginning. With no help. To fall of the Communist bloc, Ashered in an unexpected new era. Asher in. Asher in. To cause something new to start. As soon as he finished one book off, he'd start another. Finish off. Finish off. To complete something in order to bring it to an end. Many people didn't believe the Millennium Bug would come to pass. Come to pass. Come to pass. To eventually take place or occur. To happen. I decided to turn over a new leaf and quit smoking. Turn over a new leaf. Turn over a new leaf. To make a fresh start. To change course. As the long summer drew to a close, we thought back on the fun we had. Draw to a close. Draw to a close. Come to an end. To finish. Hey, don't leave yet. It's not over until the fat lady sings. Not over until the fat lady sings. Something is not over until it's completely over. There's still a chance to win or there is still time remaining. Kelly will lead you all in a song to start the ball rolling. Start the ball rolling. Start the ball rolling. To get something underway. To start something and keep the momentum from dying or dwindling down. Kelly will lead you all in a song to start the ball rolling. Start the ball rolling. Start the ball rolling. Start the momentum from dying or dwindling down. To begin. Shaping minds. Though our class was drawing to a close, we looked back at the experience of last year and realized what had come to pass was something special. Our teacher had hoped with his help we could turn over a new leaf. He helped usher in a new era for us as we went off to college or work, changing from children to adults. He had started the ball rolling for us, but it was the change in him that was the greatest. As we finished off the year getting ready to leave, we thought of how our year had kicked off and how unkind we had been to him. Each of us had changed and so had he, as he learned to be patient with us. I suppose each year he has to start from scratch to build his students up, getting them ready for the future. Though we realized that everything must end at some point, we didn't want the fat lady to sing until we had a chance to say our goodbyes and give our thanks. So here's to you for all you did and all you gave to us. Thank you.\n"
     ]
    }
   ],
   "source": [
    "print(result[\"text\"])"
   ]
  }
 ],
 "metadata": {
  "kernelspec": {
   "display_name": "WhisperIntro",
   "language": "python",
   "name": "python3"
  },
  "language_info": {
   "codemirror_mode": {
    "name": "ipython",
    "version": 3
   },
   "file_extension": ".py",
   "mimetype": "text/x-python",
   "name": "python",
   "nbconvert_exporter": "python",
   "pygments_lexer": "ipython3",
   "version": "3.13.5"
  }
 },
 "nbformat": 4,
 "nbformat_minor": 5
}
